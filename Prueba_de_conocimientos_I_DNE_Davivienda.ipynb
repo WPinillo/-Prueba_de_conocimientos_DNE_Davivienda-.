{
  "cells": [
    {
      "cell_type": "markdown",
      "source": [
        "<p><img alt=\"Colaboratory logo\" height=\"65px\" src=\"https://upload.wikimedia.org/wikipedia/en/thumb/b/b1/Davivienda_logo.svg/1200px-Davivienda_logo.svg.png\" align=\"left\" hspace=\"10px\" width=\"20%\" vspace=\"15px\"></p>\n",
        "\n",
        "<h1 align=\"center\"> Prueba Técnica Profesional III Departamento de Datos no Estructurados  </h1>\n"
      ],
      "metadata": {
        "id": "nRAe41rkGhGc"
      },
      "id": "nRAe41rkGhGc"
    },
    {
      "cell_type": "markdown",
      "id": "418c8444",
      "metadata": {
        "id": "418c8444"
      },
      "source": [
        "<p style=»text-align: justify;»>\n",
        "El Departamento de Analítica No estructurada busca profesionales con fuertes capacidades técnicas y sobretodo una fuerte capacidad analítica. Por consiguiente esta prueba intenta poner a prueba la forma en la que plantea y soluciona problmeas. Es importante que presente el código que usa para resolver el problema con el único motivo de medir sus capacidades.\n",
        "\n",
        "Se recomienda que sea ordenado en su código y siga los lineamientos establecidos, aún así la prueba tiene un grado de flexibilidad. Se evaluará el orden y la creatividad a la hora de presentar la información. \n",
        "</p>\n",
        "\n",
        "\n",
        "**Nota** <br>\n",
        "Tenga en cuneta que éste ejercicio es hipotético y el banco no usará su trabajo más que para evaluar sus habiliadades para el cargo\n"
      ]
    },
    {
      "cell_type": "markdown",
      "source": [
        "#### **Objetivo**\n",
        "El objetivo de esta prueba es lograr un filtro que discrimine automáticamente un tipo de documento sin información relevante: páginas en blanco. Se busca que este filtro reciba como entrada una carpeta con imágenes de documentos diversos y produzca como salida dos carpetas, una con imágenes de páginas en blanco y otra con imágenes de páginas con contenido.\n",
        "\n",
        "Páginas con solo el membrete del documento se consideran páginas en blanco, así como las que, al momento de ser escaneadas, alcanzan a reflejar contenido ininteligible del reverso de la página."
      ],
      "metadata": {
        "id": "MRRXB1kbbvOz"
      },
      "id": "MRRXB1kbbvOz"
    },
    {
      "cell_type": "markdown",
      "source": [
        "## Clasificación de Imágenes"
      ],
      "metadata": {
        "id": "QXEgCPkGbYIG"
      },
      "id": "QXEgCPkGbYIG"
    },
    {
      "cell_type": "code",
      "source": [
        "# Montar el notebook en google drive\n",
        "from google.colab import drive\n",
        "drive.mount('/content/drive')"
      ],
      "metadata": {
        "colab": {
          "base_uri": "https://localhost:8080/"
        },
        "id": "QhQyt7zR-7XD",
        "outputId": "39414f4b-bac2-45f2-b2f3-3d81ecd22448"
      },
      "id": "QhQyt7zR-7XD",
      "execution_count": 161,
      "outputs": [
        {
          "output_type": "stream",
          "name": "stdout",
          "text": [
            "Mounted at /content/drive\n"
          ]
        }
      ]
    },
    {
      "cell_type": "code",
      "source": [
        "# Importar las librerías requeridas\n",
        "import numpy as np\n",
        "import seaborn as sns\n",
        "import matplotlib.pyplot as plt\n",
        "import os\n",
        "import cv2"
      ],
      "metadata": {
        "id": "7S7N-AIU4YQg"
      },
      "id": "7S7N-AIU4YQg",
      "execution_count": 182,
      "outputs": []
    },
    {
      "cell_type": "markdown",
      "source": [
        "### 1.Importe las imágenes\n",
        "En la carpeta adjunta se encontrará con documentos tanto en blanco como con contenido. Su objetivo es generar un modelo que clasifique los elementos en \"Con Contenido\" y \"Sin Contenido\". Para eso puede utilizar reglas o modelos especificos."
      ],
      "metadata": {
        "id": "Cs3WaXmZG0uj"
      },
      "id": "Cs3WaXmZG0uj"
    },
    {
      "cell_type": "code",
      "source": [
        "# Definir la ruta y las categorias de los documentos\n",
        "dir = 'Prueba_conocimientos_davivienda/Ejercicio_1_Imagenes/Datasets'\n",
        "categories = ['Blanco', 'Documentos']"
      ],
      "metadata": {
        "id": "35uR8Il-AsIW"
      },
      "id": "35uR8Il-AsIW",
      "execution_count": 155,
      "outputs": []
    },
    {
      "cell_type": "markdown",
      "source": [
        "El primer paso es convertir las imágenes de documentos en blanco y con contenido en conjuntos de datos de entrenamiento y prueba. Para evitar imágenes con diferentes tamaños definimos el tamaño de cada imagen 50px50p. En este problema específico no necesitamos tener el cuenta el color en las imágenes para identificar si tienen contenido o no, por tanto podemos aplicar filtros de escala de grises para  trabajar con arreglos unidimensionales en lugar de tridimensionales (RGB)."
      ],
      "metadata": {
        "id": "E6UTyhnqF057"
      },
      "id": "E6UTyhnqF057"
    },
    {
      "cell_type": "code",
      "source": [
        "training_data = []\n",
        "img_size = (50, 50) # Definir el tamaño de las imágenes\n",
        "\n",
        "def create_training_data(): \n",
        "  for category in categories: # Categorías Blanco y Documentos\n",
        "    path = os.path.join(dir, category) # Crear ruta por categoría\n",
        "    class_num = categories.index(category) # Número de clases\n",
        "    for img in os.listdir(path):            # Iterar sobre cada imagen por categoria\n",
        "        try:\n",
        "          img_array = cv2.imread(os.path.join(path, img), cv2.IMREAD_GRAYSCALE) # Convertir en arreglo\n",
        "          new_array = cv2.resize(img_array, img_size) # Redimensionar imágenes\n",
        "          training_data.append([new_array, class_num]) # Añadir a training_data (img y clase)\n",
        "        except Exception as e: # Evitar errores en el conjunto de salida\n",
        "            pass\n",
        "\n",
        "create_training_data()"
      ],
      "metadata": {
        "id": "wuuqBCTKGtKU"
      },
      "id": "wuuqBCTKGtKU",
      "execution_count": 168,
      "outputs": []
    },
    {
      "cell_type": "markdown",
      "source": [
        "### 2. Estructure la información\n",
        "Debido a que las imagenes son archivos separados lo primero que debe hacer es importarlas (recuerde que una imagen es esencialmente un arreglo de vectores), puede esturcturarlas a su gusto y marcar de ser necesario aquellas que va usar como test de pruebas. "
      ],
      "metadata": {
        "id": "ut1ODmgseSFj"
      },
      "id": "ut1ODmgseSFj"
    },
    {
      "cell_type": "code",
      "source": [
        "# Deinir \"X\" con las características y \"y\" con las etiquetas\n",
        "X = []\n",
        "y = []\n",
        "\n",
        "for features, label in training_data:\n",
        "  X.append(features)\n",
        "  y.append(label)\n",
        "\n",
        "# Convertir en arreglos numpy\n",
        "X = np.array(X).reshape(-1, 50, 50, 1) # Redimensionar X\n",
        "y = np.array(y)"
      ],
      "metadata": {
        "id": "PJBIuJQpLEls"
      },
      "id": "PJBIuJQpLEls",
      "execution_count": 169,
      "outputs": []
    },
    {
      "cell_type": "code",
      "source": [
        "from sklearn.model_selection import train_test_split\n",
        "\n",
        "# Dividir el dataset en entrenamiento y prueba utilizando train_test_split\n",
        "X_train, X_test, y_train, y_test = train_test_split(X, y,\n",
        "                                                    test_size=0.2, # 20% datos para prueba\n",
        "                                                    random_state=1,\n",
        "                                                    shuffle=True)"
      ],
      "metadata": {
        "id": "C95OhUcWWeiK"
      },
      "id": "C95OhUcWWeiK",
      "execution_count": 170,
      "outputs": []
    },
    {
      "cell_type": "markdown",
      "source": [
        "Se procede a convertir el vector binario de las etiquetas en una matriz de valores binarios por clase"
      ],
      "metadata": {
        "id": "B3BXyRbKu8cd"
      },
      "id": "B3BXyRbKu8cd"
    },
    {
      "cell_type": "code",
      "source": [
        "num_classes = 2 # Definir número de clases\n",
        "# Convertir y_train en matriz de valores binarios\n",
        "y_train_binary = tf.keras.utils.to_categorical(y_train, num_classes)\n",
        "# Convertir y_test en matriz de valores binarios\n",
        "y_test_binary = tf.keras.utils.to_categorical(y_test, num_classes)"
      ],
      "metadata": {
        "id": "sJcUIiMgdlek"
      },
      "id": "sJcUIiMgdlek",
      "execution_count": 171,
      "outputs": []
    },
    {
      "cell_type": "markdown",
      "source": [
        "### 3. Describa su Estrategia de Análisis\n",
        "<p>Tiene libertad en la metodología para la clasificación. Aún así debe describir brevemente como realizará el análisis. Por ejemplo, si usará un modelo en donde requiera clasificar una cantidad pequeña de la data mencionelo o si planea condicionar la clasifiaciónes a reglas indique que reglas usará. Además si usa herramientas externas describalas y explique. </p>\n"
      ],
      "metadata": {
        "id": "SxK-QGJ1KeaY"
      },
      "id": "SxK-QGJ1KeaY"
    },
    {
      "cell_type": "code",
      "source": [
        "# IMportar los módulos necesarios para contruir el modelo (CNN)\n",
        "import tensorflow as tf\n",
        "import keras\n",
        "from keras.models import Sequential\n",
        "from keras.layers import Dense, Activation, Flatten\n",
        "from keras.layers import Conv2D, MaxPooling2D"
      ],
      "metadata": {
        "id": "Ja9figXzbTNX"
      },
      "id": "Ja9figXzbTNX",
      "execution_count": 172,
      "outputs": []
    },
    {
      "cell_type": "markdown",
      "source": [
        "El segundo paso es contruir el modelo, se procede a usar una red neuronal convolucional para clasificar las imágenes con y sin contenido. Las imágenes tienen un rango de píxeles de 0 a 255 por tanto se divide X entre 255 para normalizar.\n",
        "\n"
      ],
      "metadata": {
        "id": "w0lbDZjzwpNT"
      },
      "id": "w0lbDZjzwpNT"
    },
    {
      "cell_type": "code",
      "source": [
        "X = X/255.0\n",
        "\n",
        "model = Sequential()\n",
        "\n",
        "model.add(Conv2D(256, (3, 3), input_shape=X_train.shape[1:]))\n",
        "model.add(Activation('relu'))\n",
        "model.add(MaxPooling2D(pool_size=(2, 2)))\n",
        "\n",
        "model.add(Conv2D(256, (3, 3)))\n",
        "model.add(Activation('relu'))\n",
        "model.add(MaxPooling2D(pool_size=(2, 2)))\n",
        "\n",
        "model.add(Flatten())\n",
        "\n",
        "model.add(Dense(64))\n",
        "\n",
        "model.add(Dense(2, activation='softmax'))"
      ],
      "metadata": {
        "id": "238g-RuzOV6w"
      },
      "id": "238g-RuzOV6w",
      "execution_count": 173,
      "outputs": []
    },
    {
      "cell_type": "markdown",
      "source": [
        "Se compila el modelo con la función de pérdida \"binary crossentropy\", el optimizador \"adam\" y la métrica de monitoreo \"accuracy\"."
      ],
      "metadata": {
        "id": "33u2-4ptynJE"
      },
      "id": "33u2-4ptynJE"
    },
    {
      "cell_type": "code",
      "source": [
        "model.compile(loss='binary_crossentropy',\n",
        "              optimizer='adam',\n",
        "              metrics=['accuracy'])"
      ],
      "metadata": {
        "id": "VKnlL3oMOrLu"
      },
      "id": "VKnlL3oMOrLu",
      "execution_count": 174,
      "outputs": []
    },
    {
      "cell_type": "markdown",
      "source": [
        "Se entrena el modelo con los datos de entrenamiento, se define el tamaño del lote con el que se va a alimentar la red en cada iteración y se definen 5 iteraciones asignando un 10% de los datos a la validación del modelo."
      ],
      "metadata": {
        "id": "3cpGQweQzVOs"
      },
      "id": "3cpGQweQzVOs"
    },
    {
      "cell_type": "code",
      "source": [
        "model.fit(X_train, y_train_binary, batch_size=32, epochs=5, validation_split=0.1)"
      ],
      "metadata": {
        "colab": {
          "base_uri": "https://localhost:8080/"
        },
        "id": "AjAVVRUSOtjd",
        "outputId": "c07d9a56-9eac-47ec-a640-b1612324fa7f"
      },
      "id": "AjAVVRUSOtjd",
      "execution_count": 175,
      "outputs": [
        {
          "output_type": "stream",
          "name": "stdout",
          "text": [
            "Epoch 1/5\n",
            "6/6 [==============================] - 8s 1s/step - loss: 334.4733 - accuracy: 0.4237 - val_loss: 10.2962 - val_accuracy: 0.8000\n",
            "Epoch 2/5\n",
            "6/6 [==============================] - 9s 1s/step - loss: 16.4599 - accuracy: 0.7684 - val_loss: 7.4392 - val_accuracy: 0.9000\n",
            "Epoch 3/5\n",
            "6/6 [==============================] - 7s 1s/step - loss: 2.6006 - accuracy: 0.9266 - val_loss: 3.1890 - val_accuracy: 1.0000\n",
            "Epoch 4/5\n",
            "6/6 [==============================] - 7s 1s/step - loss: 0.5908 - accuracy: 0.9944 - val_loss: 3.6665 - val_accuracy: 0.9000\n",
            "Epoch 5/5\n",
            "6/6 [==============================] - 7s 1s/step - loss: 0.9145 - accuracy: 0.9661 - val_loss: 0.0807 - val_accuracy: 1.0000\n"
          ]
        },
        {
          "output_type": "execute_result",
          "data": {
            "text/plain": [
              "<keras.callbacks.History at 0x7fc806a0a050>"
            ]
          },
          "metadata": {},
          "execution_count": 175
        }
      ]
    },
    {
      "cell_type": "markdown",
      "source": [
        "### 4. Interpretación de Reusultados\n",
        "<p>Al final tiene que presentar la información en una matriz que muestre la calidad de su clasificación y evaluarla con la medida que guste. </p>\n",
        "<br>\n",
        "<img src=\"https://www.ecured.cu/images/3/31/Matrices_de_confusi%C3%B3n.png\" >"
      ],
      "metadata": {
        "id": "8Dp_gy0lEfDZ"
      },
      "id": "8Dp_gy0lEfDZ"
    },
    {
      "cell_type": "code",
      "source": [
        "from sklearn.metrics import confusion_matrix, classification_report"
      ],
      "metadata": {
        "id": "qvr999F9bu39"
      },
      "id": "qvr999F9bu39",
      "execution_count": 176,
      "outputs": []
    },
    {
      "cell_type": "code",
      "source": [
        "# Obtenemos la matriz de confusión\n",
        "y_pred = model.predict(X_test)\n",
        "cm = confusion_matrix(np.argmax(y_test_binary, axis=1), np.argmax(y_pred, axis=1))\n",
        "\n",
        "sns.heatmap(cm, annot=True, annot_kws={\"size\": 16})"
      ],
      "metadata": {
        "colab": {
          "base_uri": "https://localhost:8080/",
          "height": 282
        },
        "id": "-6DtdvVyfhJP",
        "outputId": "a5ef6d38-03f6-41ec-a3a3-47b89a0460ef"
      },
      "id": "-6DtdvVyfhJP",
      "execution_count": 186,
      "outputs": [
        {
          "output_type": "execute_result",
          "data": {
            "text/plain": [
              "<matplotlib.axes._subplots.AxesSubplot at 0x7fc8944afdd0>"
            ]
          },
          "metadata": {},
          "execution_count": 186
        },
        {
          "output_type": "display_data",
          "data": {
            "text/plain": [
              "<Figure size 432x288 with 2 Axes>"
            ],
            "image/png": "[encoded data removed]"
          },
          "metadata": {
            "needs_background": "light"
          }
        }
      ]
    },
    {
      "cell_type": "code",
      "source": [
        "# Obtenemos el reporte de las métricas de evaluación\n",
        "report = classification_report(np.argmax(y_test_binary, axis=1), np.argmax(y_pred, axis=1))\n",
        "print(report, sep = \"\\n\")"
      ],
      "metadata": {
        "colab": {
          "base_uri": "https://localhost:8080/"
        },
        "id": "J5wu6NkIfH7z",
        "outputId": "bf7fc5f5-8afb-4952-ad16-87e11fad7d51"
      },
      "id": "J5wu6NkIfH7z",
      "execution_count": 178,
      "outputs": [
        {
          "output_type": "stream",
          "name": "stdout",
          "text": [
            "              precision    recall  f1-score   support\n",
            "\n",
            "           0       1.00      1.00      1.00        33\n",
            "           1       1.00      1.00      1.00        17\n",
            "\n",
            "    accuracy                           1.00        50\n",
            "   macro avg       1.00      1.00      1.00        50\n",
            "weighted avg       1.00      1.00      1.00        50\n",
            "\n"
          ]
        }
      ]
    }
  ],
  "metadata": {
    "kernelspec": {
      "display_name": "Python 3 (ipykernel)",
      "language": "python",
      "name": "python3"
    },
    "language_info": {
      "codemirror_mode": {
        "name": "ipython",
        "version": 3
      },
      "file_extension": ".py",
      "mimetype": "text/x-python",
      "name": "python",
      "nbconvert_exporter": "python",
      "pygments_lexer": "ipython3",
      "version": "3.7.9"
    },
    "colab": {
      "name": "Prueba_de_conocimientos_I_DNE_Davivienda.ipynb",
      "provenance": []
    }
  },
  "nbformat": 4,
  "nbformat_minor": 5
}